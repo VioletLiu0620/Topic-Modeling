{
 "cells": [
  {
   "cell_type": "code",
   "execution_count": 2,
   "metadata": {},
   "outputs": [
    {
     "name": "stderr",
     "output_type": "stream",
     "text": [
      "/var/folders/71/x3rvl7ln249fg0x43jhfvmn00000gn/T/ipykernel_58274/4080736814.py:1: DeprecationWarning: \n",
      "Pyarrow will become a required dependency of pandas in the next major release of pandas (pandas 3.0),\n",
      "(to allow more performant data types, such as the Arrow string type, and better interoperability with other libraries)\n",
      "but was not found to be installed on your system.\n",
      "If this would cause problems for you,\n",
      "please provide us feedback at https://github.com/pandas-dev/pandas/issues/54466\n",
      "        \n",
      "  import pandas as pd\n"
     ]
    }
   ],
   "source": [
    "import pandas as pd"
   ]
  },
  {
   "cell_type": "code",
   "execution_count": 3,
   "metadata": {},
   "outputs": [
    {
     "data": {
      "text/html": [
       "<div>\n",
       "<style scoped>\n",
       "    .dataframe tbody tr th:only-of-type {\n",
       "        vertical-align: middle;\n",
       "    }\n",
       "\n",
       "    .dataframe tbody tr th {\n",
       "        vertical-align: top;\n",
       "    }\n",
       "\n",
       "    .dataframe thead th {\n",
       "        text-align: right;\n",
       "    }\n",
       "</style>\n",
       "<table border=\"1\" class=\"dataframe\">\n",
       "  <thead>\n",
       "    <tr style=\"text-align: right;\">\n",
       "      <th></th>\n",
       "      <th>text</th>\n",
       "      <th>likes</th>\n",
       "      <th>responses</th>\n",
       "    </tr>\n",
       "  </thead>\n",
       "  <tbody>\n",
       "    <tr>\n",
       "      <th>0</th>\n",
       "      <td>I never breakout from makeup but those broke m...</td>\n",
       "      <td>411</td>\n",
       "      <td></td>\n",
       "    </tr>\n",
       "    <tr>\n",
       "      <th>1</th>\n",
       "      <td>I bought theee shades and it breaks me out 😭😭</td>\n",
       "      <td>498</td>\n",
       "      <td>Omggg don’t tell me that 😅😅</td>\n",
       "    </tr>\n",
       "    <tr>\n",
       "      <th>2</th>\n",
       "      <td>I just bought the @L’Oréal Paris Lumi glow yes...</td>\n",
       "      <td>89</td>\n",
       "      <td>How good are they!! Annoyed it took me so long 🤣💖</td>\n",
       "    </tr>\n",
       "    <tr>\n",
       "      <th>3</th>\n",
       "      <td>Forget the shade, ur eyes are unreal</td>\n",
       "      <td>159</td>\n",
       "      <td>Thank you 🥹💖🥰</td>\n",
       "    </tr>\n",
       "    <tr>\n",
       "      <th>4</th>\n",
       "      <td>Your lashes are perfect 😍😍</td>\n",
       "      <td>3</td>\n",
       "      <td>Thank you 🥰</td>\n",
       "    </tr>\n",
       "    <tr>\n",
       "      <th>...</th>\n",
       "      <td>...</td>\n",
       "      <td>...</td>\n",
       "      <td>...</td>\n",
       "    </tr>\n",
       "    <tr>\n",
       "      <th>196</th>\n",
       "      <td>LOREAL BOYCOT!!!!!</td>\n",
       "      <td>0</td>\n",
       "      <td></td>\n",
       "    </tr>\n",
       "    <tr>\n",
       "      <th>197</th>\n",
       "      <td>@Eva strunge</td>\n",
       "      <td>0</td>\n",
       "      <td></td>\n",
       "    </tr>\n",
       "    <tr>\n",
       "      <th>198</th>\n",
       "      <td>@gauxvodevrienden mss moej ke een borstel kope...</td>\n",
       "      <td>1</td>\n",
       "      <td></td>\n",
       "    </tr>\n",
       "    <tr>\n",
       "      <th>199</th>\n",
       "      <td>Numero?</td>\n",
       "      <td>0</td>\n",
       "      <td></td>\n",
       "    </tr>\n",
       "    <tr>\n",
       "      <th>200</th>\n",
       "      <td>@Sille</td>\n",
       "      <td>1</td>\n",
       "      <td></td>\n",
       "    </tr>\n",
       "  </tbody>\n",
       "</table>\n",
       "<p>201 rows × 3 columns</p>\n",
       "</div>"
      ],
      "text/plain": [
       "                                                  text  likes  \\\n",
       "0    I never breakout from makeup but those broke m...    411   \n",
       "1        I bought theee shades and it breaks me out 😭😭    498   \n",
       "2    I just bought the @L’Oréal Paris Lumi glow yes...     89   \n",
       "3                 Forget the shade, ur eyes are unreal    159   \n",
       "4                           Your lashes are perfect 😍😍      3   \n",
       "..                                                 ...    ...   \n",
       "196                                 LOREAL BOYCOT!!!!!      0   \n",
       "197                                       @Eva strunge      0   \n",
       "198  @gauxvodevrienden mss moej ke een borstel kope...      1   \n",
       "199                                            Numero?      0   \n",
       "200                                             @Sille      1   \n",
       "\n",
       "                                             responses  \n",
       "0                                                       \n",
       "1                          Omggg don’t tell me that 😅😅  \n",
       "2    How good are they!! Annoyed it took me so long 🤣💖  \n",
       "3                                        Thank you 🥹💖🥰  \n",
       "4                                          Thank you 🥰  \n",
       "..                                                 ...  \n",
       "196                                                     \n",
       "197                                                     \n",
       "198                                                     \n",
       "199                                                     \n",
       "200                                                     \n",
       "\n",
       "[201 rows x 3 columns]"
      ]
     },
     "execution_count": 3,
     "metadata": {},
     "output_type": "execute_result"
    }
   ],
   "source": [
    "df = pd.read_json(\"/Users/liuyuhan/Downloads/tiktok_comments_grouped.json\")\n",
    "df"
   ]
  },
  {
   "cell_type": "code",
   "execution_count": 4,
   "metadata": {},
   "outputs": [
    {
     "data": {
      "text/plain": [
       "'I never breakout from makeup but those broke me out so bad'"
      ]
     },
     "execution_count": 4,
     "metadata": {},
     "output_type": "execute_result"
    }
   ],
   "source": [
    "docs = df.text.tolist()\n",
    "docs[0]"
   ]
  },
  {
   "cell_type": "code",
   "execution_count": 5,
   "metadata": {},
   "outputs": [
    {
     "name": "stderr",
     "output_type": "stream",
     "text": [
      "/Library/Frameworks/Python.framework/Versions/3.12/lib/python3.12/site-packages/tqdm/auto.py:21: TqdmWarning: IProgress not found. Please update jupyter and ipywidgets. See https://ipywidgets.readthedocs.io/en/stable/user_install.html\n",
      "  from .autonotebook import tqdm as notebook_tqdm\n"
     ]
    }
   ],
   "source": [
    "from top2vec import Top2Vec"
   ]
  },
  {
   "cell_type": "code",
   "execution_count": 6,
   "metadata": {},
   "outputs": [
    {
     "name": "stderr",
     "output_type": "stream",
     "text": [
      "2024-12-19 20:27:28,930 - top2vec - INFO - Pre-processing documents for training\n",
      "/Library/Frameworks/Python.framework/Versions/3.12/lib/python3.12/site-packages/sklearn/feature_extraction/text.py:525: UserWarning: The parameter 'token_pattern' will not be used since 'tokenizer' is not None'\n",
      "  warnings.warn(\n",
      "2024-12-19 20:27:28,935 - top2vec - INFO - Downloading all-MiniLM-L6-v2 model\n",
      "2024-12-19 20:27:30,457 - top2vec - INFO - Creating joint document/word embedding\n",
      "2024-12-19 20:27:31,649 - top2vec - INFO - Creating lower dimension embedding of documents\n",
      "OMP: Info #276: omp_set_nested routine deprecated, please use omp_set_max_active_levels instead.\n",
      "2024-12-19 20:27:35,811 - top2vec - INFO - Finding dense areas of documents\n",
      "2024-12-19 20:27:35,816 - top2vec - INFO - Finding topics\n"
     ]
    }
   ],
   "source": [
    "model = Top2Vec(docs, min_count= 2)"
   ]
  },
  {
   "cell_type": "code",
   "execution_count": 7,
   "metadata": {},
   "outputs": [
    {
     "name": "stdout",
     "output_type": "stream",
     "text": [
      "[113  48  40]\n",
      "[0 1 2]\n"
     ]
    }
   ],
   "source": [
    "topic_sizes, topic_nums = model.get_topic_sizes()\n",
    "print(topic_sizes)\n",
    "print(topic_nums)"
   ]
  },
  {
   "cell_type": "code",
   "execution_count": 8,
   "metadata": {},
   "outputs": [],
   "source": [
    "topics_words, word_scores, topic_num = model.get_topics(3)\n"
   ]
  },
  {
   "cell_type": "code",
   "execution_count": 9,
   "metadata": {},
   "outputs": [
    {
     "name": "stdout",
     "output_type": "stream",
     "text": [
      "0\n",
      "Words: ['makeup' 'xx' 'shade' 'brush' 'lashes' 'beautiful' 'skin' 'concealer'\n",
      " 'breakout' 'lash' 'your' 'glow' 'product' 'my' 'you' 'amazing' 'girl'\n",
      " 'looks' 'que' 'thxs' 'love' 'look' 'wow' 'foundation' 'serum' 'lumi'\n",
      " 'using' 'me' 'use' 'it' 'what' 'donde' 'on' 'do' 'brocha' 'is' 'with'\n",
      " 'good' 'glotion' 'die' 'ik' 'from' 'oreal' 'heb' 'this' 'loreal' 'made'\n",
      " 'the' 'for' 'and']\n",
      "1\n",
      "Words: ['in' 'using' 'use' 'girl' 'on' 'please' 'my' 'did' 'with' 'donde'\n",
      " 'loreal' 'your' 'of' 'wow' 'to' 'que' 'you' 'amazing' 'from' 'me' 'can'\n",
      " 'de' 'this' 'lumi' 'la' 'xx' 'it' 'es' 'out' 'before' 'il' 'oreal' 'have'\n",
      " 'beautiful' 'for' 'the' 'heb' 'look' 'do' 'love' 'which' 'glow' 'lash'\n",
      " 'what' 'and' 'product' 'or' 'is' 'den' 'so']\n",
      "2\n",
      "Words: ['de' 'es' 'que' 'den' 'donde' 'il' 'ik' 'dit' 'die' 'la' 'brocha' 'lumi'\n",
      " 'loreal' 'product' 'of' 'oreal' 'xx' 'using' 'to' 'use' 'on' 'it' 'in'\n",
      " 'my' 'with' 'the' 'look' 'you' 'love' 'girl' 'brush' 'your' 'out' 'heb'\n",
      " 'from' 'are' 'glow' 'skin' 'beautiful' 'for' 'can' 'lash' 'is' 'looks'\n",
      " 'breakout' 'shade' 'makeup' 'have' 'me' 'this']\n"
     ]
    }
   ],
   "source": [
    "for words, scores, num in zip(topics_words, word_scores, topic_nums):\n",
    "    print(num)\n",
    "    print(f\"Words: {words}\")"
   ]
  },
  {
   "cell_type": "code",
   "execution_count": 10,
   "metadata": {},
   "outputs": [
    {
     "name": "stdout",
     "output_type": "stream",
     "text": [
      "Document: 140, Score: 0.6851719617843628\n",
      "-----------\n",
      "@Claudia ik heb dit gekocht\n",
      "-----------\n",
      "\n",
      "Document: 152, Score: 0.6851719617843628\n",
      "-----------\n",
      "@Claudia ik heb dit gekocht\n",
      "-----------\n",
      "\n",
      "Document: 74, Score: 0.626830518245697\n",
      "-----------\n",
      "@🪩🥂🗽 zo ziet ie er wel echt mooi uif\n",
      "-----------\n",
      "\n",
      "Document: 73, Score: 0.620612621307373\n",
      "-----------\n",
      "hola! de dónde es la brocha??? que geniallll\n",
      "-----------\n",
      "\n",
      "Document: 148, Score: 0.620612621307373\n",
      "-----------\n",
      "hola! de dónde es la brocha??? que geniallll\n",
      "-----------\n",
      "\n",
      "Document: 163, Score: 0.6144402027130127\n",
      "-----------\n",
      "De donde es la brocha? 😊\n",
      "-----------\n",
      "\n",
      "Document: 145, Score: 0.6128562688827515\n",
      "-----------\n",
      "@D0502 zij lijkt op jou\n",
      "-----------\n",
      "\n",
      "Document: 68, Score: 0.6128562688827515\n",
      "-----------\n",
      "@D0502 zij lijkt op jou\n",
      "-----------\n",
      "\n",
      "Document: 120, Score: 0.6112976670265198\n",
      "-----------\n",
      "bij de action heb je een dupe er van die heet Glow Lotion van MAX & MORE!!!\n",
      "-----------\n",
      "\n",
      "Document: 70, Score: 0.6046088933944702\n",
      "-----------\n",
      "@user1974023959447 ik gebruik deze sinds deze week echt chill\n",
      "-----------\n",
      "\n"
     ]
    }
   ],
   "source": [
    "documents, document_scores, document_ids = model.search_documents_by_topic(topic_num=2, num_docs=10)\n",
    "for doc, score, doc_id in zip(documents, document_scores, document_ids):\n",
    "    print(f\"Document: {doc_id}, Score: {score}\")\n",
    "    print(\"-----------\")\n",
    "    print(doc)\n",
    "    print(\"-----------\")\n",
    "    print()"
   ]
  },
  {
   "cell_type": "code",
   "execution_count": null,
   "metadata": {},
   "outputs": [],
   "source": []
  }
 ],
 "metadata": {
  "kernelspec": {
   "display_name": "Python 3",
   "language": "python",
   "name": "python3"
  },
  "language_info": {
   "codemirror_mode": {
    "name": "ipython",
    "version": 3
   },
   "file_extension": ".py",
   "mimetype": "text/x-python",
   "name": "python",
   "nbconvert_exporter": "python",
   "pygments_lexer": "ipython3",
   "version": "3.12.1"
  }
 },
 "nbformat": 4,
 "nbformat_minor": 2
}
